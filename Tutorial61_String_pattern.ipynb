{
  "nbformat": 4,
  "nbformat_minor": 0,
  "metadata": {
    "colab": {
      "name": "Tutorial61_String-pattern.ipynb",
      "provenance": [],
      "authorship_tag": "ABX9TyOukjIIVI21QK7n95jtYVTj",
      "include_colab_link": true
    },
    "kernelspec": {
      "name": "python3",
      "display_name": "Python 3"
    }
  },
  "cells": [
    {
      "cell_type": "markdown",
      "metadata": {
        "id": "view-in-github",
        "colab_type": "text"
      },
      "source": [
        "<a href=\"https://colab.research.google.com/github/Shambhavi-Gupta/Tutorial61_String-pattern/blob/main/Tutorial61_String_pattern.ipynb\" target=\"_parent\"><img src=\"https://colab.research.google.com/assets/colab-badge.svg\" alt=\"Open In Colab\"/></a>"
      ]
    },
    {
      "cell_type": "code",
      "metadata": {
        "id": "FrHEFS-lRwva"
      },
      "source": [
        "string = input(\"Enter the string : \")\r\n",
        "length = len(string)\r\n",
        "for row in range(length):\r\n",
        "    for col in range(row+1):\r\n",
        "        print(string[col],end=\"\")\r\n",
        "    print()"
      ],
      "execution_count": null,
      "outputs": []
    }
  ]
}